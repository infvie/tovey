{
 "cells": [
  {
   "cell_type": "code",
   "execution_count": 2,
   "metadata": {},
   "outputs": [],
   "source": [
    "import pandas as pd\n",
    "import numpy as np\n",
    "import matplotlib.pyplot as plt \n",
    "import seaborn as sns\n",
    "import nltk"
   ]
  },
  {
   "cell_type": "code",
   "execution_count": 5,
   "metadata": {},
   "outputs": [
    {
     "data": {
      "text/html": [
       "<div>\n",
       "<style scoped>\n",
       "    .dataframe tbody tr th:only-of-type {\n",
       "        vertical-align: middle;\n",
       "    }\n",
       "\n",
       "    .dataframe tbody tr th {\n",
       "        vertical-align: top;\n",
       "    }\n",
       "\n",
       "    .dataframe thead th {\n",
       "        text-align: right;\n",
       "    }\n",
       "</style>\n",
       "<table border=\"1\" class=\"dataframe\">\n",
       "  <thead>\n",
       "    <tr style=\"text-align: right;\">\n",
       "      <th></th>\n",
       "      <th>created_at</th>\n",
       "      <th>favorite_count</th>\n",
       "      <th>id_str</th>\n",
       "      <th>in_reply_to_user_id_str</th>\n",
       "      <th>is_retweet</th>\n",
       "      <th>retweet_count</th>\n",
       "      <th>source</th>\n",
       "      <th>text</th>\n",
       "    </tr>\n",
       "  </thead>\n",
       "  <tbody>\n",
       "    <tr>\n",
       "      <th>0</th>\n",
       "      <td>2018-12-31 23:53:06</td>\n",
       "      <td>136012</td>\n",
       "      <td>1079888205351145472</td>\n",
       "      <td>NaN</td>\n",
       "      <td>False</td>\n",
       "      <td>33548</td>\n",
       "      <td>Twitter for iPhone</td>\n",
       "      <td>HAPPY NEW YEAR! https://t.co/bHoPDPQ7G6</td>\n",
       "    </tr>\n",
       "    <tr>\n",
       "      <th>1</th>\n",
       "      <td>2018-12-31 20:02:52</td>\n",
       "      <td>65069</td>\n",
       "      <td>1079830268708556800</td>\n",
       "      <td>25073877.0</td>\n",
       "      <td>False</td>\n",
       "      <td>17456</td>\n",
       "      <td>Twitter for iPhone</td>\n",
       "      <td>....Senator Schumer, more than a year longer t...</td>\n",
       "    </tr>\n",
       "    <tr>\n",
       "      <th>2</th>\n",
       "      <td>2018-12-31 20:02:52</td>\n",
       "      <td>76721</td>\n",
       "      <td>1079830267274108928</td>\n",
       "      <td>NaN</td>\n",
       "      <td>False</td>\n",
       "      <td>21030</td>\n",
       "      <td>Twitter for iPhone</td>\n",
       "      <td>Heads of countries are calling wanting to know...</td>\n",
       "    </tr>\n",
       "    <tr>\n",
       "      <th>3</th>\n",
       "      <td>2018-12-31 15:39:15</td>\n",
       "      <td>127485</td>\n",
       "      <td>1079763923845419008</td>\n",
       "      <td>NaN</td>\n",
       "      <td>False</td>\n",
       "      <td>29610</td>\n",
       "      <td>Twitter for iPhone</td>\n",
       "      <td>It’s incredible how Democrats can all use thei...</td>\n",
       "    </tr>\n",
       "    <tr>\n",
       "      <th>4</th>\n",
       "      <td>2018-12-31 15:37:14</td>\n",
       "      <td>132439</td>\n",
       "      <td>1079763419908243456</td>\n",
       "      <td>NaN</td>\n",
       "      <td>False</td>\n",
       "      <td>30957</td>\n",
       "      <td>Twitter for iPhone</td>\n",
       "      <td>I’m in the Oval Office. Democrats, come back f...</td>\n",
       "    </tr>\n",
       "  </tbody>\n",
       "</table>\n",
       "</div>"
      ],
      "text/plain": [
       "           created_at  favorite_count               id_str  \\\n",
       "0 2018-12-31 23:53:06          136012  1079888205351145472   \n",
       "1 2018-12-31 20:02:52           65069  1079830268708556800   \n",
       "2 2018-12-31 20:02:52           76721  1079830267274108928   \n",
       "3 2018-12-31 15:39:15          127485  1079763923845419008   \n",
       "4 2018-12-31 15:37:14          132439  1079763419908243456   \n",
       "\n",
       "   in_reply_to_user_id_str  is_retweet  retweet_count              source  \\\n",
       "0                      NaN       False          33548  Twitter for iPhone   \n",
       "1               25073877.0       False          17456  Twitter for iPhone   \n",
       "2                      NaN       False          21030  Twitter for iPhone   \n",
       "3                      NaN       False          29610  Twitter for iPhone   \n",
       "4                      NaN       False          30957  Twitter for iPhone   \n",
       "\n",
       "                                                text  \n",
       "0            HAPPY NEW YEAR! https://t.co/bHoPDPQ7G6  \n",
       "1  ....Senator Schumer, more than a year longer t...  \n",
       "2  Heads of countries are calling wanting to know...  \n",
       "3  It’s incredible how Democrats can all use thei...  \n",
       "4  I’m in the Oval Office. Democrats, come back f...  "
      ]
     },
     "execution_count": 5,
     "metadata": {},
     "output_type": "execute_result"
    }
   ],
   "source": [
    "df = pd.read_json('condensed_2018.json.zip')\n",
    "df.head()"
   ]
  },
  {
   "cell_type": "code",
   "execution_count": 6,
   "metadata": {},
   "outputs": [
    {
     "name": "stderr",
     "output_type": "stream",
     "text": [
      "/home/infvie/anaconda3/lib/python3.6/site-packages/scipy/stats/stats.py:1713: FutureWarning: Using a non-tuple sequence for multidimensional indexing is deprecated; use `arr[tuple(seq)]` instead of `arr[seq]`. In the future this will be interpreted as an array index, `arr[np.array(seq)]`, which will result either in an error or a different result.\n",
      "  return np.add.reduce(sorted[indexer] * weights, axis=axis) / sumval\n"
     ]
    },
    {
     "data": {
      "image/png": "[encoded data removed]",
      "text/plain": [
       "<Figure size 432x288 with 1 Axes>"
      ]
     },
     "metadata": {
      "needs_background": "light"
     },
     "output_type": "display_data"
    }
   ],
   "source": [
    "sns.distplot(df['favorite_count'])\n",
    "plt.show()"
   ]
  },
  {
   "cell_type": "code",
   "execution_count": 8,
   "metadata": {},
   "outputs": [
    {
     "name": "stderr",
     "output_type": "stream",
     "text": [
      "/home/infvie/anaconda3/lib/python3.6/site-packages/scipy/stats/stats.py:1713: FutureWarning: Using a non-tuple sequence for multidimensional indexing is deprecated; use `arr[tuple(seq)]` instead of `arr[seq]`. In the future this will be interpreted as an array index, `arr[np.array(seq)]`, which will result either in an error or a different result.\n",
      "  return np.add.reduce(sorted[indexer] * weights, axis=axis) / sumval\n"
     ]
    },
    {
     "data": {
      "image/png": "[encoded data removed]",
      "text/plain": [
       "<Figure size 432x288 with 1 Axes>"
      ]
     },
     "metadata": {
      "needs_background": "light"
     },
     "output_type": "display_data"
    }
   ],
   "source": [
    "df = df[df['favorite_count']>0]\n",
    "sns.distplot(df['favorite_count'])\n",
    "plt.show()"
   ]
  },
  {
   "cell_type": "code",
   "execution_count": null,
   "metadata": {},
   "outputs": [],
   "source": []
  }
 ],
 "metadata": {
  "kernelspec": {
   "display_name": "Python 3",
   "language": "python",
   "name": "python3"
  },
  "language_info": {
   "codemirror_mode": {
    "name": "ipython",
    "version": 3
   },
   "file_extension": ".py",
   "mimetype": "text/x-python",
   "name": "python",
   "nbconvert_exporter": "python",
   "pygments_lexer": "ipython3",
   "version": "3.6.8"
  }
 },
 "nbformat": 4,
 "nbformat_minor": 2
}
